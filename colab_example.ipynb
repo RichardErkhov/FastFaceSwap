{
  "nbformat": 4,
  "nbformat_minor": 0,
  "metadata": {
    "colab": {
      "provenance": [],
      "gpuType": "T4"
    },
    "kernelspec": {
      "name": "python3",
      "display_name": "Python 3"
    },
    "language_info": {
      "name": "python"
    },
    "accelerator": "GPU"
  },
  "cells": [
    {
      "cell_type": "code",
      "execution_count": null,
      "metadata": {
        "id": "dhOwLvtgDjNq"
      },
      "outputs": [],
      "source": [
        "#@title **SETUP THE PROGRAM**. IF YOU HAVE ANY ERRORS DURING PIP INSTALL IGNORE THEN AND CONTINUE. IF LAST CELL RUNS IT RUNS, IF NOT, SEND MESSAGE TO DISCORD.\n",
        "!git clone https://github.com/RichardErkhov/FastFaceSwap\n",
        "%cd FastFaceSwap\n",
        "!wget https://github.com/RichardErkhov/FastFaceSwap/releases/download/model/inswapper_128.onnx\n",
        "!wget https://github.com/RichardErkhov/FastFaceSwap/releases/download/model/GFPGANv1.4.pth\n",
        "!wget https://github.com/RichardErkhov/FastFaceSwap/releases/download/model/complex_256_v7_stage3_12999.h5\n",
        "!wget https://github.com/RichardErkhov/FastFaceSwap/releases/download/model/GFPGANv1.4.onnx\n",
        "!pip install -q torch==2.1.0 torchvision torchaudio\n",
        "!pip install -q onnxruntime-gpu\n",
        "!pip install -q -r requirements.txt\n",
        "!pip install -q tensorflow-gpu==2.10.1\n",
        "!pip install -q protobuf==3.20.2\n",
        "!pip uninstall opencv-python opencv-headless-python opencv-contrib-python -q -y\n",
        "!pip install -q opencv-python"
      ]
    },
    {
      "cell_type": "code",
      "source": [
        "%cd /content/FastFaceSwap\n",
        "#@title **RUN THE PROGRAM**\n",
        "#@markdown path to the face image\n",
        "face_image = \"seed0000.png\" #@param {type:\"string\"}\n",
        "#@markdown path to the video where to change the face\n",
        "target = \"seed0001.png\" #@param {type:\"string\"}\n",
        "output = \"output.png\" #@param {type:\"string\"}\n",
        "#@markdown the amount of the threads that program runs in\n",
        "threads = 16 #@param {type:\"integer\"}\n",
        "#@markdown if the input is image\n",
        "image = True #@param {type:\"boolean\"}\n",
        "face_enhancer = 'gfpgan' #@param [\"none\", \"gfpgan\", \"ffe\", \"codeformer\", \"gpfgan_onnx\",\"real_esrgan\"]\n",
        "#@markdown FFE face enhancer is still in progress, it might drastically change the color of the face!\n",
        "if image:\n",
        "  !python main.py -f $face_image -t $target -o $output --threads $threads --image --cli --face-enhancer $face_enhancer\n",
        "else:\n",
        "  !python main.py -f $face_image -t $target -o $output --threads $threads --cli --face-enhancer $face_enhancer"
      ],
      "metadata": {
        "id": "ZGgC07ndD3BX"
      },
      "execution_count": null,
      "outputs": []
    }
  ]
}