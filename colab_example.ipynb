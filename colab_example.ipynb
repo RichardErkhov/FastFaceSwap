{
  "nbformat": 4,
  "nbformat_minor": 0,
  "metadata": {
    "colab": {
      "provenance": [],
      "gpuType": "T4"
    },
    "kernelspec": {
      "name": "python3",
      "display_name": "Python 3"
    },
    "language_info": {
      "name": "python"
    },
    "accelerator": "GPU"
  },
  "cells": [
    {
      "cell_type": "code",
      "source": [
        "# onnxruntime likes cuda 11\n",
        "# Uninstall the current CUDA version\n",
        "!apt-get --purge remove cuda nvidia* libnvidia-*\n",
        "!dpkg -l | grep cuda- | awk '{print $2}' | xargs -n1 dpkg --purge\n",
        "!apt-get remove cuda-*\n",
        "!apt autoremove\n",
        "!apt-get update\n",
        "\n",
        "# Download CUDA 11.8\n",
        "!wget  --no-clobber https://developer.download.nvidia.com/compute/cuda/repos/ubuntu2204/x86_64/cuda-ubuntu2204.pin\n",
        "!sudo mv cuda-ubuntu2204.pin /etc/apt/preferences.d/cuda-repository-pin-600\n",
        "!wget --no-clobber https://developer.download.nvidia.com/compute/cuda/11.8.0/local_installers/cuda-repo-ubuntu2204-11-8-local_11.8.0-520.61.05-1_amd64.deb\n",
        "!sudo dpkg -i cuda-repo-ubuntu2204-11-8-local_11.8.0-520.61.05-1_amd64.deb\n",
        "!sudo cp /var/cuda-repo-ubuntu2204-11-8-local/cuda-*-keyring.gpg /usr/share/keyrings/\n",
        "!apt-get update\n",
        "!apt-get install cuda-11-8"
      ],
      "metadata": {
        "id": "p1b7984BNJiD"
      },
      "execution_count": null,
      "outputs": []
    },
    {
      "cell_type": "markdown",
      "source": [
        "# RESTART RUNTIME!!!\n",
        "# RUNTIME > RESTART SESSION. THEN CONTINUE"
      ],
      "metadata": {
        "id": "hvMttZ39QUJa"
      }
    },
    {
      "cell_type": "code",
      "execution_count": null,
      "metadata": {
        "id": "dhOwLvtgDjNq"
      },
      "outputs": [],
      "source": [
        "#@title **SETUP THE PROGRAM**\n",
        "!git clone https://github.com/RichardErkhov/FastFaceSwap\n",
        "%cd FastFaceSwap\n",
        "!wget https://github.com/RichardErkhov/FastFaceSwap/releases/download/model/inswapper_128.onnx\n",
        "!wget https://github.com/RichardErkhov/FastFaceSwap/releases/download/model/GFPGANv1.4.pth\n",
        "!wget https://github.com/RichardErkhov/FastFaceSwap/releases/download/model/complex_256_v7_stage3_12999.h5\n",
        "!wget https://github.com/RichardErkhov/FastFaceSwap/releases/download/model/GFPGANv1.4.onnx\n",
        "!pip install torch torchvision torchaudio\n",
        "!pip install onnxruntime-gpu\n",
        "!pip install -r requirements.txt\n",
        "!pip install tensorflow-gpu==2.10.1\n",
        "!pip install protobuf==3.20.2\n",
        "!pip uninstall opencv-python opencv-headless-python opencv-contrib-python -q -y\n",
        "!pip install opencv-python"
      ]
    },
    {
      "cell_type": "code",
      "source": [
        "%cd /content/FastFaceSwap\n",
        "#@title **RUN THE PROGRAM**\n",
        "#@markdown path to the face image\n",
        "face_image = \"face.jpg\" #@param {type:\"string\"}\n",
        "#@markdown path to the video where to change the face\n",
        "target = \"\\\"Rick Astley - Never Gonna Give You Up (Official Music Video).mp4\\\"\" #@param {type:\"string\"}\n",
        "output = \"output.mp4\" #@param {type:\"string\"}\n",
        "#@markdown the amount of the threads that program runs in\n",
        "threads = 16 #@param {type:\"integer\"}\n",
        "#@markdown if the input is image\n",
        "image = False #@param {type:\"boolean\"}\n",
        "face_enhancer = 'none' #@param [\"none\", \"gfpgan\", \"ffe\", \"codeformer\", \"gpfgan_onnx\",\"real_esrgan\"]\n",
        "#@markdown FFE face enhancer is still in progress, it might drastically change the color of the face!\n",
        "if image:\n",
        "  !python main.py -f $face_image -t $target -o $output --threads $threads --image --cli --face-enhancer $face_enhancer\n",
        "else:\n",
        "  !python main.py -f $face_image -t $target -o $output --threads $threads --cli --face-enhancer $face_enhancer"
      ],
      "metadata": {
        "id": "ZGgC07ndD3BX"
      },
      "execution_count": null,
      "outputs": []
    }
  ]
}